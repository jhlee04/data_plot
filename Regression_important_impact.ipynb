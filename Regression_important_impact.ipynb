

# 2. 라이브러리 불러오기
import pandas as pd
import matplotlib.pyplot as plt
import numpy as np
import seaborn as sns
from sklearn.linear_model import LinearRegression
from sklearn.metrics import r2_score

# 3. 데이터 불러오기
file_path = 'data.csv'  # ← 실제 경로로 유지
df = pd.read_csv(file_path)

# 4. 카테고리 및 색상 정의
category_order = [f"Category_{i}" for i in range(1, 11)]
unique_categories = [cat for cat in category_order if cat in df['Category'].unique()]
color_palette = [
    "#a6cee3", "#1f78b4", "#08519c",   # 1~3: 파랑 계열
    "#fdbf6f", "#ff7f00", "#e6550d",   # 4~6: 주황 계열
    "#6a3d9a",                         # 7: 보라
    "#b2df8a", "#33a02c",              # 8~9: 녹색 계열
    "#999999"                          # 10: 회색
]
category_colors = {
    cat: color_palette[i % len(color_palette)]
    for i, cat in enumerate(unique_categories)
}

# 5. 선형 회귀 분석
X = df[['Important']].values
y = df['Impact'].values
model = LinearRegression()
model.fit(X, y)
y_pred = model.predict(X)
r2 = r2_score(y, y_pred)

# 6. 시각화 코드 (실행 시 그려짐)
plt.figure(figsize=(6.5, 5.5))
ax = plt.gca()

# 점 그리기
for category in unique_categories:
    sub = df[df['Category'] == category]
    plt.scatter(
        sub['Important'],
        sub['Impact'],
        alpha=0.7,
        color=category_colors[category],
        edgecolors='none',
        label=category,
        s=70
    )

# 회귀선과 R2 표시
x_vals = np.array([1, 5])
y_vals = model.predict(x_vals.reshape(-1, 1))
plt.plot(x_vals, y_vals, color='black', linewidth=2, label='Trend Line')
plt.text(1.05, 4.7, f"$R^2 = {r2:.2f}$", fontsize=14, color="black")

# 스타일 설정
plt.xlabel("Important", fontsize=14)
plt.ylabel("Impact", fontsize=14)
plt.xticks(range(1, 6), fontsize=12)
plt.yticks(range(1, 6), fontsize=12)
plt.grid(True, linestyle='--', alpha=0.5)
plt.legend(title="", bbox_to_anchor=(1.05, 1), loc='upper left', fontsize=11, frameon=False)
ax.set_aspect('equal')
plt.tight_layout()
# plt.savefig("important_vs_impact.png", dpi=300)  # 저장 원할 경우 주석 해제
plt.show()
